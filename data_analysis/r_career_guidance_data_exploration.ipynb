{
 "metadata": {
  "language_info": {
   "codemirror_mode": {
    "name": "ipython",
    "version": 3
   },
   "file_extension": ".py",
   "mimetype": "text/x-python",
   "name": "python",
   "nbconvert_exporter": "python",
   "pygments_lexer": "ipython3",
   "version": "3.8.3-final"
  },
  "orig_nbformat": 2,
  "kernelspec": {
   "name": "python3",
   "display_name": "Python 3",
   "language": "python"
  }
 },
 "nbformat": 4,
 "nbformat_minor": 2,
 "cells": [
  {
   "source": [
    "# R/CareerGuidance Data Exploration\n",
    "\n",
    "This notebook contains my data exploration for the subreddit [r/CareerGuidance](https://www.reddit.com/r/careerguidance/), a popular career guidance forum on Reddit. \n",
    "\n",
    "I want to see if I can find any change in patterns after March 2020. What kind of posts trended after the start of Coronavirus pandemic lockdown in the US?\n",
    "\n",
    "### Preliminary Questions:\n",
    "\n",
    "1. What is the average number of comments (posts with a higher amount of comments have more user engagement). Median number of commnets? Median score?\n",
    "2. Are most posts (ranked top 1000 of all time) created before or after March 2020?\n",
    "3. What is the post with the highest number of comments? (most engagement)?\n",
    "4. if we subset the data frame by month, what is the top comment for each month? what is its score? which is the one with the highest amount of user engagement?\n",
    "5. Other questions that come up after seeing the results of the above analysis (listed below)\n",
    "\n"
   ],
   "cell_type": "markdown",
   "metadata": {}
  },
  {
   "cell_type": "code",
   "execution_count": 19,
   "metadata": {},
   "outputs": [],
   "source": [
    "import pandas as pd"
   ]
  },
  {
   "cell_type": "code",
   "execution_count": 20,
   "metadata": {},
   "outputs": [
    {
     "output_type": "execute_result",
     "data": {
      "text/plain": [
       "   Unnamed: 0                                              title  score  \\\n",
       "0           0                             Anyone else depressed?   1484   \n",
       "1           1  Are you seriously trying to quit your job duri...   1250   \n",
       "2           2  Anyone else graduated, got in a 'career' and r...   1147   \n",
       "3           3  \"wE'vE dEcIdEd NoT tO mOvE fOrWaRd At ThIs TiM...   1067   \n",
       "4           4  Anyone else feel ‘trapped’ in their job becaus...   1014   \n",
       "\n",
       "       id       subreddit                                                url  \\\n",
       "0  iuq5bq  careerguidance  https://www.reddit.com/r/careerguidance/commen...   \n",
       "1  g4d70n  careerguidance  https://www.reddit.com/r/careerguidance/commen...   \n",
       "2  gh3k6s  careerguidance  https://www.reddit.com/r/careerguidance/commen...   \n",
       "3  gx9vcl  careerguidance  https://www.reddit.com/r/careerguidance/commen...   \n",
       "4  i75f39  careerguidance  https://www.reddit.com/r/careerguidance/commen...   \n",
       "\n",
       "   num_comments                                               body  \\\n",
       "0           315  Anyone else in their mid-20s out of college, w...   \n",
       "1           188  This will probably be downvoted to hell. That’...   \n",
       "2           233  It's probably the number 1 thing driving me in...   \n",
       "3           315  I'm so sick of these emails. I want to scream ...   \n",
       "4           204  I’ve been in this shitty graduate job for almo...   \n",
       "\n",
       "        created         date_created  \n",
       "0  1.600399e+09  2020-09-17 23:08:49  \n",
       "1  1.587351e+09  2020-04-19 22:57:55  \n",
       "2  1.589154e+09  2020-05-10 19:32:34  \n",
       "3  1.591410e+09  2020-06-05 22:17:40  \n",
       "4  1.597097e+09  2020-08-10 18:05:10  "
      ],
      "text/html": "<div>\n<style scoped>\n    .dataframe tbody tr th:only-of-type {\n        vertical-align: middle;\n    }\n\n    .dataframe tbody tr th {\n        vertical-align: top;\n    }\n\n    .dataframe thead th {\n        text-align: right;\n    }\n</style>\n<table border=\"1\" class=\"dataframe\">\n  <thead>\n    <tr style=\"text-align: right;\">\n      <th></th>\n      <th>Unnamed: 0</th>\n      <th>title</th>\n      <th>score</th>\n      <th>id</th>\n      <th>subreddit</th>\n      <th>url</th>\n      <th>num_comments</th>\n      <th>body</th>\n      <th>created</th>\n      <th>date_created</th>\n    </tr>\n  </thead>\n  <tbody>\n    <tr>\n      <th>0</th>\n      <td>0</td>\n      <td>Anyone else depressed?</td>\n      <td>1484</td>\n      <td>iuq5bq</td>\n      <td>careerguidance</td>\n      <td>https://www.reddit.com/r/careerguidance/commen...</td>\n      <td>315</td>\n      <td>Anyone else in their mid-20s out of college, w...</td>\n      <td>1.600399e+09</td>\n      <td>2020-09-17 23:08:49</td>\n    </tr>\n    <tr>\n      <th>1</th>\n      <td>1</td>\n      <td>Are you seriously trying to quit your job duri...</td>\n      <td>1250</td>\n      <td>g4d70n</td>\n      <td>careerguidance</td>\n      <td>https://www.reddit.com/r/careerguidance/commen...</td>\n      <td>188</td>\n      <td>This will probably be downvoted to hell. That’...</td>\n      <td>1.587351e+09</td>\n      <td>2020-04-19 22:57:55</td>\n    </tr>\n    <tr>\n      <th>2</th>\n      <td>2</td>\n      <td>Anyone else graduated, got in a 'career' and r...</td>\n      <td>1147</td>\n      <td>gh3k6s</td>\n      <td>careerguidance</td>\n      <td>https://www.reddit.com/r/careerguidance/commen...</td>\n      <td>233</td>\n      <td>It's probably the number 1 thing driving me in...</td>\n      <td>1.589154e+09</td>\n      <td>2020-05-10 19:32:34</td>\n    </tr>\n    <tr>\n      <th>3</th>\n      <td>3</td>\n      <td>\"wE'vE dEcIdEd NoT tO mOvE fOrWaRd At ThIs TiM...</td>\n      <td>1067</td>\n      <td>gx9vcl</td>\n      <td>careerguidance</td>\n      <td>https://www.reddit.com/r/careerguidance/commen...</td>\n      <td>315</td>\n      <td>I'm so sick of these emails. I want to scream ...</td>\n      <td>1.591410e+09</td>\n      <td>2020-06-05 22:17:40</td>\n    </tr>\n    <tr>\n      <th>4</th>\n      <td>4</td>\n      <td>Anyone else feel ‘trapped’ in their job becaus...</td>\n      <td>1014</td>\n      <td>i75f39</td>\n      <td>careerguidance</td>\n      <td>https://www.reddit.com/r/careerguidance/commen...</td>\n      <td>204</td>\n      <td>I’ve been in this shitty graduate job for almo...</td>\n      <td>1.597097e+09</td>\n      <td>2020-08-10 18:05:10</td>\n    </tr>\n  </tbody>\n</table>\n</div>"
     },
     "metadata": {},
     "execution_count": 20
    }
   ],
   "source": [
    "df = pd.read_csv('../data/raw/posts_career_guidance.csv')\n",
    "# that's how you do it:) (navigating up i mean)\n",
    "\n",
    "\n",
    "df.shape\n",
    "df.columns\n",
    "df.head()"
   ]
  },
  {
   "cell_type": "code",
   "execution_count": 21,
   "metadata": {},
   "outputs": [
    {
     "output_type": "execute_result",
     "data": {
      "text/plain": [
       "Index(['index', 'title', 'score', 'id', 'subreddit', 'url', 'num_comments',\n",
       "       'body', 'created', 'date_created'],\n",
       "      dtype='object')"
      ]
     },
     "metadata": {},
     "execution_count": 21
    }
   ],
   "source": [
    "# let's rename these columns\n",
    "\n",
    "df = df.rename(columns={'Unnamed: 0':'index'})\n",
    "\n",
    "df.columns\n",
    "\n"
   ]
  },
  {
   "source": [
    "After some analysis, we find this data fram has :\n",
    "\n",
    "- 1000 observations by 9 variables (10 if you count the pandas dataframe index).\n",
    "- These variables are:\n",
    "    - Post Title\n",
    "    - Post Score in Upvotes / Downvotes\n",
    "    - Post ID \n",
    "    - Subreddit Name \n",
    "    - Direct Url Link to Post \n",
    "    - Created in seconds (Computer Time)\n",
    "    - Date Created (obtained from Computer Time)\n",
    "\n",
    "### Next Steps \n",
    "I now want to\n",
    "\n",
    "- [x] Find the median post score. \n",
    "- [x] Find the median number of comments \n",
    "- [x] Find the average number of comments \n",
    "- [x] Create month index column\n",
    "- [x] Subset data frame by month\n",
    "- [x] Find the most commented post from each month.\n",
    "- [x] Find the most upvoted post from each month. Compare to most commented. \n",
    "- [x] The highest commented AND highest upvoted post of all time\n",
    "\n",
    "\n",
    "### Why do I want these Statistics?\n",
    "\n",
    "1. The median of a sample is less susepctible to outliers than the mean is, so it is better to use as something to compare scores with, but I also still want to see that mean!\n",
    "2. I wannt to see how the top post by month changed during the progression of the Coronavirus Lockdown Period. \n",
    "3. More posts implies a higher level of user engagement, even if it is a very rough measurement of engagement. I wasnt to see which posts were most engaging. \n",
    "4. However, more upvotes implies more people \"agree\" with the sentiment the poster has. \n",
    "    \n",
    "\n"
   ],
   "cell_type": "markdown",
   "metadata": {}
  },
  {
   "cell_type": "code",
   "execution_count": 22,
   "metadata": {},
   "outputs": [
    {
     "output_type": "execute_result",
     "data": {
      "text/plain": [
       "             index        score  num_comments       created\n",
       "count  1000.000000  1000.000000   1000.000000  1.000000e+03\n",
       "mean    499.500000   208.505000     77.013000  1.578423e+09\n",
       "std     288.819436   151.905943     55.806121  2.026603e+07\n",
       "min       0.000000    73.000000      6.000000  1.486941e+09\n",
       "25%     249.750000   113.000000     40.750000  1.563830e+09\n",
       "50%     499.500000   164.500000     60.500000  1.581066e+09\n",
       "75%     749.250000   252.750000     98.000000  1.595177e+09\n",
       "max     999.000000  1484.000000    579.000000  1.608708e+09"
      ],
      "text/html": "<div>\n<style scoped>\n    .dataframe tbody tr th:only-of-type {\n        vertical-align: middle;\n    }\n\n    .dataframe tbody tr th {\n        vertical-align: top;\n    }\n\n    .dataframe thead th {\n        text-align: right;\n    }\n</style>\n<table border=\"1\" class=\"dataframe\">\n  <thead>\n    <tr style=\"text-align: right;\">\n      <th></th>\n      <th>index</th>\n      <th>score</th>\n      <th>num_comments</th>\n      <th>created</th>\n    </tr>\n  </thead>\n  <tbody>\n    <tr>\n      <th>count</th>\n      <td>1000.000000</td>\n      <td>1000.000000</td>\n      <td>1000.000000</td>\n      <td>1.000000e+03</td>\n    </tr>\n    <tr>\n      <th>mean</th>\n      <td>499.500000</td>\n      <td>208.505000</td>\n      <td>77.013000</td>\n      <td>1.578423e+09</td>\n    </tr>\n    <tr>\n      <th>std</th>\n      <td>288.819436</td>\n      <td>151.905943</td>\n      <td>55.806121</td>\n      <td>2.026603e+07</td>\n    </tr>\n    <tr>\n      <th>min</th>\n      <td>0.000000</td>\n      <td>73.000000</td>\n      <td>6.000000</td>\n      <td>1.486941e+09</td>\n    </tr>\n    <tr>\n      <th>25%</th>\n      <td>249.750000</td>\n      <td>113.000000</td>\n      <td>40.750000</td>\n      <td>1.563830e+09</td>\n    </tr>\n    <tr>\n      <th>50%</th>\n      <td>499.500000</td>\n      <td>164.500000</td>\n      <td>60.500000</td>\n      <td>1.581066e+09</td>\n    </tr>\n    <tr>\n      <th>75%</th>\n      <td>749.250000</td>\n      <td>252.750000</td>\n      <td>98.000000</td>\n      <td>1.595177e+09</td>\n    </tr>\n    <tr>\n      <th>max</th>\n      <td>999.000000</td>\n      <td>1484.000000</td>\n      <td>579.000000</td>\n      <td>1.608708e+09</td>\n    </tr>\n  </tbody>\n</table>\n</div>"
     },
     "metadata": {},
     "execution_count": 22
    }
   ],
   "source": [
    "# median of entire data frame\n",
    "# there are no missing values here\n",
    "\n",
    "df.describe()\n",
    "\n",
    "\n",
    "# I see why they use millisecond time, to make it easier to parse, hahaha. \n",
    "# to get the dates i will have to get creative and make a new column for month it was posted in. maybe date_created.contains??\n",
    "\n",
    "\n",
    "# Average score: 208.5 points. \n",
    "# Average number of comments : 77.01\n",
    "# Average post_date (whatever that means right now): Tuesday, January 7, 2020 6:50:00 PM (also known as 1.578423e+09) in epoch time. "
   ]
  },
  {
   "cell_type": "code",
   "execution_count": 23,
   "metadata": {},
   "outputs": [
    {
     "output_type": "execute_result",
     "data": {
      "text/plain": [
       "1581066391.0"
      ]
     },
     "metadata": {},
     "execution_count": 23
    }
   ],
   "source": [
    "# get some medians now\n",
    "\n",
    "df['score'].median()\n",
    "df['num_comments'].median()\n",
    "df['created'].median()\n",
    "\n",
    "\n",
    "# Median Report:\n",
    "# median Score: 164.5\n",
    "# median number of comments - 60.5\n",
    "# Median date created/ posted: Friday, February 7, 2020 9:06:31 AM (a bit higher than the average date, does this mean top posts skew to before the pandemic?)"
   ]
  },
  {
   "cell_type": "code",
   "execution_count": 24,
   "metadata": {
    "tags": []
   },
   "outputs": [],
   "source": [
    "# Now we subset by month by creating a new column called....\"month\", haha. \n",
    "\n",
    "df['month'] = df['date_created'] # initialize\n",
    "\n",
    "df.columns[0]\n",
    "df.columns[0] # this only returns a string haha\n",
    "\n",
    "type(df['date_created'][2])\n",
    "iter = 0\n",
    "\n",
    "for x in df['date_created']:\n",
    "    #print(iter)\n",
    "    #print(df['date_created'][iter])\n",
    "\n",
    "    # actual logic here\n",
    "    if '2020-02' in x:\n",
    "        #print(df['month'][iter]) #check\n",
    "        df['month'][iter] = 'February'\n",
    "        #print(df['month'][iter])\n",
    "    if '2020-03' in x:\n",
    "        #print(df['month'][iter]) #check\n",
    "        df['month'][iter] = 'March'\n",
    "        #print(df['month'][iter])\n",
    "    if '2020-04' in x:\n",
    "        #print(df['month'][iter]) #check\n",
    "        df['month'][iter] = 'April'\n",
    "        #print(df['month'][iter])\n",
    "    if '2020-05' in x:\n",
    "        #print(df['month'][iter]) #check\n",
    "        df['month'][iter] = 'May'\n",
    "        #print(df['month'][iter])\n",
    "    if '2020-06' in x:\n",
    "        #print(df['month'][iter]) #check\n",
    "        df['month'][iter] = 'June'\n",
    "        #print(df['month'][iter])\n",
    "    if '2020-07' in x:\n",
    "        #print(df['month'][iter]) #check\n",
    "        df['month'][iter] = 'July'\n",
    "        #print(df['month'][iter])\n",
    "    if '2020-08' in x:\n",
    "        #print(df['month'][iter]) #check\n",
    "        df['month'][iter] = 'August'\n",
    "        #print(df['month'][iter])\n",
    "    if '2020-09' in x:\n",
    "        #print(df['month'][iter]) #check\n",
    "        df['month'][iter] = 'September'\n",
    "        #print(df['month'][iter])\n",
    "    if '2020-10' in x:\n",
    "        #print(df['month'][iter]) #check\n",
    "        df['month'][iter] = 'October'\n",
    "        #print(df['month'][iter])\n",
    "    if '2020-11' in x:\n",
    "        #print(df['month'][iter]) #check\n",
    "        df['month'][iter] = 'November'\n",
    "        #print(df['month'][iter])\n",
    "    if '2020-12' in x:\n",
    "        #print(df['month'][iter]) #check\n",
    "        df['month'][iter] = 'December'\n",
    "        #print(df['month'][iter])\n",
    "    iter+=1\n",
    "\n",
    "\n",
    "#df.head()\n",
    "\n"
   ]
  },
  {
   "cell_type": "code",
   "execution_count": 25,
   "metadata": {},
   "outputs": [],
   "source": [
    " # was testing out logic here\n",
    " #print('2020-05' in df['date_created'][2])\n",
    "\n",
    " #print(df['date_created'][2])"
   ]
  },
  {
   "cell_type": "code",
   "execution_count": 26,
   "metadata": {},
   "outputs": [
    {
     "output_type": "stream",
     "name": "stdout",
     "text": [
      "            index       score  num_comments       created\ncount   38.000000   38.000000     38.000000  3.800000e+01\nmean   462.026316  207.210526     80.736842  1.581870e+09\nstd    253.796523  119.885341     57.424302  7.036037e+05\nmin     20.000000   78.000000     11.000000  1.580569e+09\n25%    262.250000  145.250000     45.750000  1.581246e+09\n50%    479.500000  170.500000     68.000000  1.581877e+09\n75%    586.500000  244.000000     96.500000  1.582424e+09\nmax    988.000000  675.000000    300.000000  1.582995e+09\n"
     ]
    },
    {
     "output_type": "error",
     "ename": "PermissionError",
     "evalue": "[Errno 13] Permission denied: 'career_feb.csv'",
     "traceback": [
      "\u001b[1;31m---------------------------------------------------------------------------\u001b[0m",
      "\u001b[1;31mPermissionError\u001b[0m                           Traceback (most recent call last)",
      "\u001b[1;32m<ipython-input-26-12b5eeef7b39>\u001b[0m in \u001b[0;36m<module>\u001b[1;34m\u001b[0m\n\u001b[0;32m     26\u001b[0m \u001b[0mfeb_df\u001b[0m\u001b[1;33m.\u001b[0m\u001b[0mhead\u001b[0m\u001b[1;33m(\u001b[0m\u001b[1;33m)\u001b[0m\u001b[1;33m\u001b[0m\u001b[1;33m\u001b[0m\u001b[0m\n\u001b[0;32m     27\u001b[0m \u001b[1;33m\u001b[0m\u001b[0m\n\u001b[1;32m---> 28\u001b[1;33m \u001b[0mfeb_df\u001b[0m\u001b[1;33m.\u001b[0m\u001b[0mto_csv\u001b[0m\u001b[1;33m(\u001b[0m\u001b[1;34m'career_feb.csv'\u001b[0m\u001b[1;33m)\u001b[0m\u001b[1;33m\u001b[0m\u001b[1;33m\u001b[0m\u001b[0m\n\u001b[0m\u001b[0;32m     29\u001b[0m \u001b[1;33m\u001b[0m\u001b[0m\n",
      "\u001b[1;32mC:\\ProgramData\\Anaconda3\\lib\\site-packages\\pandas\\core\\generic.py\u001b[0m in \u001b[0;36mto_csv\u001b[1;34m(self, path_or_buf, sep, na_rep, float_format, columns, header, index, index_label, mode, encoding, compression, quoting, quotechar, line_terminator, chunksize, date_format, doublequote, escapechar, decimal)\u001b[0m\n\u001b[0;32m   3202\u001b[0m             \u001b[0mdecimal\u001b[0m\u001b[1;33m=\u001b[0m\u001b[0mdecimal\u001b[0m\u001b[1;33m,\u001b[0m\u001b[1;33m\u001b[0m\u001b[1;33m\u001b[0m\u001b[0m\n\u001b[0;32m   3203\u001b[0m         )\n\u001b[1;32m-> 3204\u001b[1;33m         \u001b[0mformatter\u001b[0m\u001b[1;33m.\u001b[0m\u001b[0msave\u001b[0m\u001b[1;33m(\u001b[0m\u001b[1;33m)\u001b[0m\u001b[1;33m\u001b[0m\u001b[1;33m\u001b[0m\u001b[0m\n\u001b[0m\u001b[0;32m   3205\u001b[0m \u001b[1;33m\u001b[0m\u001b[0m\n\u001b[0;32m   3206\u001b[0m         \u001b[1;32mif\u001b[0m \u001b[0mpath_or_buf\u001b[0m \u001b[1;32mis\u001b[0m \u001b[1;32mNone\u001b[0m\u001b[1;33m:\u001b[0m\u001b[1;33m\u001b[0m\u001b[1;33m\u001b[0m\u001b[0m\n",
      "\u001b[1;32mC:\\ProgramData\\Anaconda3\\lib\\site-packages\\pandas\\io\\formats\\csvs.py\u001b[0m in \u001b[0;36msave\u001b[1;34m(self)\u001b[0m\n\u001b[0;32m    182\u001b[0m             \u001b[0mclose\u001b[0m \u001b[1;33m=\u001b[0m \u001b[1;32mFalse\u001b[0m\u001b[1;33m\u001b[0m\u001b[1;33m\u001b[0m\u001b[0m\n\u001b[0;32m    183\u001b[0m         \u001b[1;32melse\u001b[0m\u001b[1;33m:\u001b[0m\u001b[1;33m\u001b[0m\u001b[1;33m\u001b[0m\u001b[0m\n\u001b[1;32m--> 184\u001b[1;33m             f, handles = get_handle(\n\u001b[0m\u001b[0;32m    185\u001b[0m                 \u001b[0mself\u001b[0m\u001b[1;33m.\u001b[0m\u001b[0mpath_or_buf\u001b[0m\u001b[1;33m,\u001b[0m\u001b[1;33m\u001b[0m\u001b[1;33m\u001b[0m\u001b[0m\n\u001b[0;32m    186\u001b[0m                 \u001b[0mself\u001b[0m\u001b[1;33m.\u001b[0m\u001b[0mmode\u001b[0m\u001b[1;33m,\u001b[0m\u001b[1;33m\u001b[0m\u001b[1;33m\u001b[0m\u001b[0m\n",
      "\u001b[1;32mC:\\ProgramData\\Anaconda3\\lib\\site-packages\\pandas\\io\\common.py\u001b[0m in \u001b[0;36mget_handle\u001b[1;34m(path_or_buf, mode, encoding, compression, memory_map, is_text)\u001b[0m\n\u001b[0;32m    426\u001b[0m         \u001b[1;32mif\u001b[0m \u001b[0mencoding\u001b[0m\u001b[1;33m:\u001b[0m\u001b[1;33m\u001b[0m\u001b[1;33m\u001b[0m\u001b[0m\n\u001b[0;32m    427\u001b[0m             \u001b[1;31m# Encoding\u001b[0m\u001b[1;33m\u001b[0m\u001b[1;33m\u001b[0m\u001b[1;33m\u001b[0m\u001b[0m\n\u001b[1;32m--> 428\u001b[1;33m             \u001b[0mf\u001b[0m \u001b[1;33m=\u001b[0m \u001b[0mopen\u001b[0m\u001b[1;33m(\u001b[0m\u001b[0mpath_or_buf\u001b[0m\u001b[1;33m,\u001b[0m \u001b[0mmode\u001b[0m\u001b[1;33m,\u001b[0m \u001b[0mencoding\u001b[0m\u001b[1;33m=\u001b[0m\u001b[0mencoding\u001b[0m\u001b[1;33m,\u001b[0m \u001b[0mnewline\u001b[0m\u001b[1;33m=\u001b[0m\u001b[1;34m\"\"\u001b[0m\u001b[1;33m)\u001b[0m\u001b[1;33m\u001b[0m\u001b[1;33m\u001b[0m\u001b[0m\n\u001b[0m\u001b[0;32m    429\u001b[0m         \u001b[1;32melif\u001b[0m \u001b[0mis_text\u001b[0m\u001b[1;33m:\u001b[0m\u001b[1;33m\u001b[0m\u001b[1;33m\u001b[0m\u001b[0m\n\u001b[0;32m    430\u001b[0m             \u001b[1;31m# No explicit encoding\u001b[0m\u001b[1;33m\u001b[0m\u001b[1;33m\u001b[0m\u001b[1;33m\u001b[0m\u001b[0m\n",
      "\u001b[1;31mPermissionError\u001b[0m: [Errno 13] Permission denied: 'career_feb.csv'"
     ]
    }
   ],
   "source": [
    "is_feb = df['month']=='February'\n",
    "\n",
    "feb_df = df[is_feb]\n",
    "feb_df.head()\n",
    "\n",
    "#print(march_df.shape)\n",
    "\n",
    "# top comment from march now\n",
    "\n",
    "print(feb_df.describe())\n",
    "\n",
    "\n",
    "# get some medians now\n",
    "\n",
    "# median score for march\n",
    "#print(march_df['score'].median())\n",
    "\n",
    "#  median number of comments for march\n",
    "#print(march_df['num_comments'].median())\n",
    "\n",
    "\n",
    "\n",
    "feb_df[feb_df['score']==feb_df['score'].max()]['date_created'] \n",
    "feb_df[feb_df['score']==feb_df['score'].max()].head()\n",
    "\n",
    "feb_df.head()\n",
    "\n",
    "feb_df.to_csv('career_feb.csv')\n",
    "\n"
   ]
  },
  {
   "source": [
    "## March Analysis for r/CareerGuidance\n",
    "\n",
    "| Statistic   | February Posts | March Posts | April Posts |--Top 1000 Form Posts of All Time--\n",
    "| ----------- | ----------- | ----------- | ------------ |\n",
    "| Number of Posts  | 38 |50   |  44  | 1000 |\n",
    "| Average Post Score | 207 |267.42*| 245.70 | 208.5 | \n",
    "| Average Number of Comments| 80.74 | 99.98* |84.73| 77.01*\n",
    "| Highest Number of Comments on Post | 300 | 457* |310 | 579 |\n",
    "| Highest Post Score | 675 | 772 |1250 | 1484 |\n",
    "\n",
    "\n",
    "In comparison to the top 1000 posts of all time on CareerGuidance, March had a higher average number of comments. To me, this implies a higher level of user engagement. \n",
    "\n",
    "#### Most interesting post from March Posts: \n",
    "[Post with hgihest num comments, march 15](https://www.reddit.com/r/careerguidance/comments/fitp9r/i_was_rejected_from_a_position_that_required_a/\n",
    ")\n",
    "\n",
    "[post with highest score, march 7](https://www.reddit.com/r/careerguidance/comments/fellu7/anyone_feel_depressed_after_being_on_linkedin/)     "
   ],
   "cell_type": "markdown",
   "metadata": {}
  },
  {
   "cell_type": "code",
   "execution_count": null,
   "metadata": {},
   "outputs": [],
   "source": [
    "\n",
    "is_march = df['month']=='March'\n",
    "\n",
    "march_df = df[is_march]\n",
    "march_df.head()\n",
    "\n",
    "#print(march_df.shape)\n",
    "\n",
    "# top comment from march now\n",
    "\n",
    "print(march_df.describe())\n",
    "\n",
    "\n",
    "# get some medians now\n",
    "\n",
    "# median score for march\n",
    "#print(march_df['score'].median())\n",
    "\n",
    "#  median number of comments for march\n",
    "#print(march_df['num_comments'].median())\n",
    "\n",
    "march_df[march_df['num_comments']==457].head()\n",
    "\n",
    "march_df[march_df['num_comments']==457]['date_created']     \n",
    "\n",
    "march_df[march_df['score']==march_df['score'].max()]['date_created'] \n",
    "march_df[march_df['score']==march_df['score'].max()].head()\n",
    "\n",
    "march_df.to_csv('career_march.csv')\n"
   ]
  },
  {
   "source": [
    "## April Analysis for r/CareerGuidance\n",
    "\n",
    "| Statistic   | March Posts | --Top 1000 Form Posts of All Time--\n",
    "| ----------- | ----------- | ----------- |\n",
    "| Number of Posts  | 44       | 1000 |\n",
    "| Average Post Score | 84.727273 | 208.5 | \n",
    "| Average Number of Comments| 84.727 | 77.01*\n",
    "| Highest Number of Comments on Post | 310  | 579 |\n",
    "| Highest Post Score | 1250*** | 1484 |\n",
    "\n",
    "### interesting post from April:\n",
    "\n",
    "[highest post score](https://www.reddit.com/r/careerguidance/comments/g4d70n/are_you_seriously_trying_to_quit_your_job_during/)\n",
    "\n",
    "Now this one is interesting. it's actually the second highest top comment of all time!!!! and it's about job security during the pandemic. The comments are full of people in the service industry who cannot find work. \n",
    "\n"
   ],
   "cell_type": "markdown",
   "metadata": {}
  },
  {
   "source": [
    "is_april = df['month']=='April'\n",
    "\n",
    "april_df = df[is_april]\n",
    "april_df.head()\n",
    "\n",
    "print(april_df.shape)\n",
    "\n",
    "# top comment from march now\n",
    "\n",
    "print(april_df.describe())\n",
    "\n",
    "\n",
    "# get some medians now\n",
    "\n",
    "# median score for march\n",
    "print(april_df['score'].median())\n",
    "\n",
    "#  median number of comments for march\n",
    "print(april_df['num_comments'].median())\n",
    "\n",
    "\n",
    "april_df[april_df['score']==april_df['score'].max()]['date_created'] \n",
    "april_df[april_df['score']==april_df['score'].max()].head()\n",
    "\n",
    "\n",
    "april_df.to_csv('career_april.csv')\n"
   ],
   "cell_type": "code",
   "metadata": {},
   "execution_count": 27,
   "outputs": [
    {
     "output_type": "stream",
     "name": "stdout",
     "text": [
      "(44, 11)\n            index        score  num_comments       created\ncount   44.000000    44.000000     44.000000  4.400000e+01\nmean   407.090909   245.704545     84.727273  1.587033e+09\nstd    270.330187   188.624714     58.680992  7.663071e+05\nmin      1.000000    78.000000     17.000000  1.585813e+09\n25%    205.500000   149.750000     53.750000  1.586328e+09\n50%    379.000000   197.000000     69.000000  1.587034e+09\n75%    566.250000   275.250000     96.750000  1.587695e+09\nmax    987.000000  1250.000000    310.000000  1.588285e+09\n197.0\n69.0\n"
     ]
    }
   ]
  },
  {
   "cell_type": "code",
   "execution_count": null,
   "metadata": {},
   "outputs": [],
   "source": [
    "is_may = df['month']=='May'\n",
    "\n",
    "may_df = df[is_may]\n",
    "may_df.head()\n",
    "\n",
    "#print(march_df.shape)\n",
    "\n",
    "# top comment from march now\n",
    "\n",
    "#print(may_df.describe())\n",
    "\n",
    "\n",
    "# get some medians now\n",
    "\n",
    "# median score for march\n",
    "#print(may_df['score'].median())\n",
    "\n",
    "#  median number of comments for march\n",
    "#print(may_df['num_comments'].median())\n",
    "\n",
    "may_df[may_df['num_comments']==may_df['num_comments'].max()]['date_created']\n",
    "may_df[may_df['num_comments']==may_df['num_comments'].max()].head()\n",
    "\n",
    "\n",
    "may_df[may_df['score']==may_df['score'].max()]['date_created'] \n",
    "may_df[may_df['score']==may_df['score'].max()].head()\n",
    "\n",
    "\n",
    "may_df.head()\n",
    "\n",
    "may_df.to_csv('career_may.csv')\n"
   ]
  },
  {
   "source": [
    "# What are the total posts by year?\n",
    "\n",
    "Is 2020 overrepresented in the top 1000 posts?"
   ],
   "cell_type": "markdown",
   "metadata": {}
  },
  {
   "cell_type": "code",
   "execution_count": null,
   "metadata": {},
   "outputs": [],
   "source": [
    "# count representation by year\n",
    "ct_2020 = 0\n",
    "ct_2019 = 0\n",
    "ct_2018 = 0\n",
    "ct_2017 = 0\n",
    "ct_2016 = 0\n",
    "\n",
    "for x in df['date_created']:\n",
    "    if '2020' in x:\n",
    "        ct_2020 += 1\n",
    "    if '2019' in x:\n",
    "        ct_2019 += 1\n",
    "    if '2018' in x:\n",
    "        ct_2018 += 1\n",
    "    if '2017' in x:\n",
    "        ct_2017 += 1\n",
    "    if '2016' in x:\n",
    "        ct_2016 += 1\n",
    "\n",
    "print(ct_2020, ct_2019, ct_2018, ct_2017, ct_2016)"
   ]
  },
  {
   "source": [
    "ok there turned out to be a huge difference!!!!!"
   ],
   "cell_type": "markdown",
   "metadata": {}
  },
  {
   "cell_type": "code",
   "execution_count": null,
   "metadata": {},
   "outputs": [],
   "source": [
    "labels = ['2020', '2019', '2018','2017','2016']\n",
    "import matplotlib.pyplot as plt\n",
    "import numpy as np\n",
    "\n",
    "\n",
    "plt.rcdefaults()\n",
    "fig, ax = plt.subplots()\n",
    "\n",
    "# Example data\n",
    "years = ('2020', '2019', '2018','2017','2016')\n",
    "y_pos = np.arange(len(years))\n",
    "num_posts = [547,383,67,3,0]\n",
    "\n",
    "ax.barh(y_pos, num_posts, align='center')\n",
    "ax.set_yticks(y_pos)\n",
    "ax.set_yticklabels(years)\n",
    "ax.invert_yaxis()  # labels read top-to-bottom\n",
    "ax.set_xlabel('Number of Posts in Top 1000 Posts of All Time')\n",
    "ax.set_title('Posts in Top 1000 (R/Careerguidance)')\n",
    "\n",
    "plt.show()\n"
   ]
  }
 ]
}