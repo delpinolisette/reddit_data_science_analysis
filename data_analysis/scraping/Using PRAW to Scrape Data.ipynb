{
 "cells": [
  {
   "cell_type": "markdown",
   "metadata": {},
   "source": [
    "### PRAW Docs\n",
    "[Documentation - Authenticating via OAuth\n",
    "](https://praw.readthedocs.io/en/latest/getting_started/authentication.html#script-application)\n",
    "\n",
    "### Getting Time of Post\n",
    "[Submission Time](https://stackoverflow.com/questions/37952909/how-to-get-the-time-since-post-published-on-praw)"
   ]
  },
  {
   "cell_type": "code",
   "execution_count": 2,
   "metadata": {},
   "outputs": [],
   "source": [
    "#!pip install praw\n",
    "#install praw, only need to run once!"
   ]
  },
  {
   "cell_type": "code",
   "execution_count": 3,
   "metadata": {},
   "outputs": [],
   "source": [
    "#import pandas as pd\n"
   ]
  },
  {
   "cell_type": "code",
   "execution_count": 4,
   "metadata": {},
   "outputs": [
    {
     "output_type": "stream",
     "name": "stdout",
     "text": [
      "<praw.reddit.Reddit object at 0x00000295BE9E9CD0>\n"
     ]
    }
   ],
   "source": [
    "import pandas as pd\n",
    "import jobs_scrape\n",
    "import datetime\n",
    "# reddit authentication done on gitignored python module on my computer - has secret client key\n",
    "\n",
    "print(jobs_scrape.reddit)\n",
    "\n",
    "reddit = jobs_scrape.reddit # setting variable i can work with here\n"
   ]
  },
  {
   "cell_type": "code",
   "execution_count": 5,
   "metadata": {
    "scrolled": true
   },
   "outputs": [
    {
     "output_type": "stream",
     "name": "stdout",
     "text": [
      "Ask Experienced Devs Weekly Thread: A weekly thread for inexperienced developers to ask experienced ones\nAsk Experienced Devs Weekly Thread: A weekly thread for inexperienced developers to ask experienced ones\nStrugglign with PRs\nHow exactly do you get new contracts as a contractor?\nSo, anyone else ever had that one guy you need gone on vacation during a critical upgrade?\nHow do you lead?\nResume inflation\n7 things to know before becoming a developer manager\nwhiteboarding for interviews done virtually\nIs Leetcode Premium worth it?\n"
     ]
    }
   ],
   "source": [
    "# trying out PRAW features\n",
    "\n",
    "hot_posts = reddit.subreddit('ExperiencedDevs').hot(limit=10)\n",
    "for post in hot_posts:\n",
    "    print(post.title)"
   ]
  },
  {
   "cell_type": "code",
   "execution_count": 6,
   "metadata": {},
   "outputs": [
    {
     "output_type": "stream",
     "name": "stdout",
     "text": [
      "Accidentally destroyed production database on first day of a job, and was told to leave, on top of this i was told by the CTO that they need to get legal involved, how screwed am i?\nI got fired over a variable name....\nWhy did I spend 4 year getting a CS degree for Web Development when people doing coding bootcamp for a few weeks and are able to get same jobs?\nApplied to our main competitor, they told my boss about it\nMy CS story contradicts everything I’ve read on this subreddit\nI've walked away from software development.\nThis sub infuriates me\nBiden to give green cards to recent STEM PhDs\nReminder: \"we're a family here\" is bullshit\nI am absolutely mortified and embarrassed beyond belief and I have zero idea what to do\n"
     ]
    }
   ],
   "source": [
    "# trying out PRAW features\n",
    "\n",
    "hot_posts = reddit.subreddit('cscareerquestions').top(limit=10)\n",
    "for post in hot_posts:\n",
    "    print(post.title)"
   ]
  },
  {
   "cell_type": "code",
   "execution_count": 7,
   "metadata": {},
   "outputs": [
    {
     "output_type": "stream",
     "name": "stdout",
     "text": [
      "2018-11-04 16:48:13\n2018-02-17 21:57:42\n2020-10-15 18:16:35\n2020-11-05 01:35:38\n2015-09-04 03:03:16\n"
     ]
    }
   ],
   "source": [
    "# convert to usable dates\n",
    "\n",
    "def date(submission):\n",
    "    time = submission.created\n",
    "    return datetime.datetime.fromtimestamp(time)\n",
    "\n",
    "\n",
    "jobs_subreddit = reddit.subreddit('Jobs')\n",
    "\n",
    "for post in jobs_subreddit.top(limit=5):\n",
    "    print(date(post))\n",
    "\n"
   ]
  },
  {
   "cell_type": "code",
   "execution_count": 17,
   "metadata": {},
   "outputs": [
    {
     "output_type": "stream",
     "name": "stdout",
     "text": [
      "                                               title  score      id subreddit  \\\n0  So real talk. Why are so may $30k to $40k per ...  12259  9u3fww      jobs   \n1  I'm an ex-recruiter for some of the top compan...   7259  7y8k6p      jobs   \n2                          A Warning About Glassdoor   5697  jbod57      jobs   \n3  America is not lacking in skilled employees, A...   4110  jo6lc7      jobs   \n4  UPDATE 3: I have slipped through the cracks at...   3571  3jjs1n      jobs   \n5      LinkedIn has turned into a glorified Facebook   3315  i08bm3      jobs   \n6                        Don't let your job kill you   2904  i5hjum      jobs   \n7  Serious: I walked into my CEOs office and than...   2556  c255l2      jobs   \n8  I had an amazing interview to a dream job but ...   2478  ie22eo      jobs   \n9  Finally after 500+ applications i landed a job...   2333  hk550d      jobs   \n\n                                                 url  num_comments  \\\n0  https://www.reddit.com/r/jobs/comments/9u3fww/...          3975   \n1  https://www.reddit.com/r/jobs/comments/7y8k6p/...           688   \n2  https://www.reddit.com/r/jobs/comments/jbod57/...           470   \n3  https://www.reddit.com/r/jobs/comments/jo6lc7/...           475   \n4  https://www.reddit.com/r/jobs/comments/3jjs1n/...          1263   \n5  https://www.reddit.com/r/jobs/comments/i08bm3/...           450   \n6  https://www.reddit.com/r/jobs/comments/i5hjum/...           196   \n7  https://www.reddit.com/r/jobs/comments/c255l2/...           123   \n8  https://www.reddit.com/r/jobs/comments/ie22eo/...           271   \n9  https://www.reddit.com/r/jobs/comments/hk550d/...           187   \n\n                                                body       created  \\\n0  It just seems odd that when I go on job boards...  1.541368e+09   \n1  **April 5, 2020 edit:** I've been getting more...  1.518923e+09   \n2  **EDIT**: A little info from Glassdoor that I ...  1.602800e+09   \n3  If every entry level job requires a year exper...  1.604558e+09   \n4  Link to my original post: https://www.reddit.c...  1.441350e+09   \n5  I'm logging into LinkedIn now more and more, a...  1.596084e+09   \n6  My uncle was a vice president in a bank. He wa...  1.596849e+09   \n7  I have been working with my company for about ...  1.560908e+09   \n8  [https://imgur.com/wZnjYjo](https://imgur.com/...  1.598063e+09   \n9  Upvote for support. A corporate recruiting pos...  1.593752e+09   \n\n         date_created  \n0 2018-11-04 16:48:13  \n1 2018-02-17 21:57:42  \n2 2020-10-15 18:16:35  \n3 2020-11-05 01:35:38  \n4 2015-09-04 03:03:16  \n5 2020-07-30 00:42:55  \n6 2020-08-07 21:01:59  \n7 2019-06-18 21:31:02  \n8 2020-08-21 22:15:14  \n9 2020-07-03 00:50:25  \n"
     ]
    },
    {
     "output_type": "error",
     "ename": "NameError",
     "evalue": "name 'posts' is not defined",
     "traceback": [
      "\u001b[1;31m---------------------------------------------------------------------------\u001b[0m",
      "\u001b[1;31mNameError\u001b[0m                                 Traceback (most recent call last)",
      "\u001b[1;32m<ipython-input-17-5af2b851cd12>\u001b[0m in \u001b[0;36m<module>\u001b[1;34m\u001b[0m\n\u001b[0;32m     11\u001b[0m \u001b[1;33m\u001b[0m\u001b[0m\n\u001b[0;32m     12\u001b[0m \u001b[1;33m\u001b[0m\u001b[0m\n\u001b[1;32m---> 13\u001b[1;33m \u001b[0mposts\u001b[0m\u001b[1;33m.\u001b[0m\u001b[0mto_csv\u001b[0m\u001b[1;33m(\u001b[0m\u001b[1;34m'posts_jobs.csv'\u001b[0m\u001b[1;33m)\u001b[0m\u001b[1;33m\u001b[0m\u001b[1;33m\u001b[0m\u001b[0m\n\u001b[0m",
      "\u001b[1;31mNameError\u001b[0m: name 'posts' is not defined"
     ]
    }
   ],
   "source": [
    "posts_jobs = [] # list to store information\n",
    "\n",
    "jobs_subreddit = reddit.subreddit('Jobs')\n",
    "\n",
    "for post in jobs_subreddit.top(limit=1000):\n",
    "    posts_jobs.append([post.title, post.score, post.id, post.subreddit, post.url, post.num_comments, post.selftext, post.created, date(post)])\n",
    "\n",
    "posts_jobs = pd.DataFrame(posts_jobs,columns=['title', 'score', 'id', 'subreddit', 'url', 'num_comments', 'body', 'created', 'date_created'])\n",
    "\n"
   ]
  },
  {
   "cell_type": "code",
   "execution_count": 18,
   "metadata": {},
   "outputs": [
    {
     "output_type": "stream",
     "name": "stdout",
     "text": [
      "                                               title  score      id subreddit  \\\n0  So real talk. Why are so may $30k to $40k per ...  12259  9u3fww      jobs   \n1  I'm an ex-recruiter for some of the top compan...   7259  7y8k6p      jobs   \n2                          A Warning About Glassdoor   5697  jbod57      jobs   \n3  America is not lacking in skilled employees, A...   4110  jo6lc7      jobs   \n4  UPDATE 3: I have slipped through the cracks at...   3571  3jjs1n      jobs   \n5      LinkedIn has turned into a glorified Facebook   3315  i08bm3      jobs   \n6                        Don't let your job kill you   2904  i5hjum      jobs   \n7  Serious: I walked into my CEOs office and than...   2556  c255l2      jobs   \n8  I had an amazing interview to a dream job but ...   2478  ie22eo      jobs   \n9  Finally after 500+ applications i landed a job...   2333  hk550d      jobs   \n\n                                                 url  num_comments  \\\n0  https://www.reddit.com/r/jobs/comments/9u3fww/...          3975   \n1  https://www.reddit.com/r/jobs/comments/7y8k6p/...           688   \n2  https://www.reddit.com/r/jobs/comments/jbod57/...           470   \n3  https://www.reddit.com/r/jobs/comments/jo6lc7/...           475   \n4  https://www.reddit.com/r/jobs/comments/3jjs1n/...          1263   \n5  https://www.reddit.com/r/jobs/comments/i08bm3/...           450   \n6  https://www.reddit.com/r/jobs/comments/i5hjum/...           196   \n7  https://www.reddit.com/r/jobs/comments/c255l2/...           123   \n8  https://www.reddit.com/r/jobs/comments/ie22eo/...           271   \n9  https://www.reddit.com/r/jobs/comments/hk550d/...           187   \n\n                                                body       created  \\\n0  It just seems odd that when I go on job boards...  1.541368e+09   \n1  **April 5, 2020 edit:** I've been getting more...  1.518923e+09   \n2  **EDIT**: A little info from Glassdoor that I ...  1.602800e+09   \n3  If every entry level job requires a year exper...  1.604558e+09   \n4  Link to my original post: https://www.reddit.c...  1.441350e+09   \n5  I'm logging into LinkedIn now more and more, a...  1.596084e+09   \n6  My uncle was a vice president in a bank. He wa...  1.596849e+09   \n7  I have been working with my company for about ...  1.560908e+09   \n8  [https://imgur.com/wZnjYjo](https://imgur.com/...  1.598063e+09   \n9  Upvote for support. A corporate recruiting pos...  1.593752e+09   \n\n         date_created  \n0 2018-11-04 16:48:13  \n1 2018-02-17 21:57:42  \n2 2020-10-15 18:16:35  \n3 2020-11-05 01:35:38  \n4 2015-09-04 03:03:16  \n5 2020-07-30 00:42:55  \n6 2020-08-07 21:01:59  \n7 2019-06-18 21:31:02  \n8 2020-08-21 22:15:14  \n9 2020-07-03 00:50:25  \n"
     ]
    }
   ],
   "source": [
    "print(posts_jobs.head(10))"
   ]
  },
  {
   "cell_type": "code",
   "execution_count": 19,
   "metadata": {},
   "outputs": [],
   "source": [
    "posts_jobs.to_csv('posts_jobs.csv')"
   ]
  },
  {
   "source": [
    "### TODO\n",
    "\n",
    "Now that the r/jobs scrape was successful, we just need to do it for:\n",
    "\n",
    "- [x] CSCareerQuestions\n",
    "- [ ] CareerGuidance\n",
    "- [ ] ExperiencedDevs"
   ],
   "cell_type": "markdown",
   "metadata": {}
  },
  {
   "source": [
    "posts_cs_career = []\n",
    "\n",
    "cs_career_subreddit = reddit.subreddit('CSCareerQuestions')\n",
    "\n",
    "for post in cs_career_subreddit.top(limit=1000):\n",
    "    posts_cs_career.append([post.title, post.score, post.id, post.subreddit, post.url, post.num_comments, post.selftext, post.created, date(post)])\n",
    "\n",
    "posts_cs_career = pd.DataFrame(posts_cs_career,columns=['title', 'score', 'id', 'subreddit', 'url', 'num_comments', 'body', 'created', 'date_created'])\n",
    "\n",
    "print(posts_cs_career.head(10))\n",
    "\n",
    "\n",
    "posts_cs_career.to_csv('posts_cs_career.csv')"
   ],
   "cell_type": "code",
   "metadata": {},
   "execution_count": 20,
   "outputs": [
    {
     "output_type": "stream",
     "name": "stdout",
     "text": [
      "                                               title  score      id  \\\n0  Accidentally destroyed production database on ...  25956  6ez8ag   \n1               I got fired over a variable name....   8355  dpcfns   \n2  Why did I spend 4 year getting a CS degree for...   6687  id1tug   \n3  Applied to our main competitor, they told my b...   4786  9ptj1r   \n4  My CS story contradicts everything I’ve read o...   4761  cbkwp4   \n5        I've walked away from software development.   4664  kfcmbj   \n6                             This sub infuriates me   4618  dqwwol   \n7      Biden to give green cards to recent STEM PhDs   4522  jqegwx   \n8        Reminder: \"we're a family here\" is bullshit   3971  hvuscm   \n9  I am absolutely mortified and embarrassed beyo...   3884  95dgrx   \n\n           subreddit                                                url  \\\n0  cscareerquestions  https://www.reddit.com/r/cscareerquestions/com...   \n1  cscareerquestions  https://www.reddit.com/r/cscareerquestions/com...   \n2  cscareerquestions  https://www.reddit.com/r/cscareerquestions/com...   \n3  cscareerquestions  https://www.reddit.com/r/cscareerquestions/com...   \n4  cscareerquestions  https://www.reddit.com/r/cscareerquestions/com...   \n5  cscareerquestions  https://www.reddit.com/r/cscareerquestions/com...   \n6  cscareerquestions  https://www.reddit.com/r/cscareerquestions/com...   \n7  cscareerquestions  https://www.reddit.com/r/cscareerquestions/com...   \n8  cscareerquestions  https://www.reddit.com/r/cscareerquestions/com...   \n9  cscareerquestions  https://www.reddit.com/r/cscareerquestions/com...   \n\n   num_comments                                               body  \\\n0          4277  Today was my first day on the job as a Junior ...   \n1           744  At my (now former) company, we use a metric ca...   \n2          1701  What the hell?\\n\\nDid I waste my time doing CS...   \n3           427  I was being underpaid and contacted the rival ...   \n4           712  Ive browsed this subreddit for a couple years ...   \n5          1533  Throwaway for obvious reasons.\\n\\nI've spent t...   \n6          1090  Before I get loads of comments telling me \"You...   \n7           655  > He will also exempt from any cap recent grad...   \n8           504  I've been in the industry for a long time now....   \n9           498  Using a throw away account here. I just need t...   \n\n        created        date_created  \n0  1.496491e+09 2017-06-03 07:58:12  \n1  1.572497e+09 2019-10-31 00:36:11  \n2  1.597919e+09 2020-08-20 06:21:58  \n3  1.540065e+09 2018-10-20 15:50:41  \n4  1.562814e+09 2019-07-10 23:04:18  \n5  1.608289e+09 2020-12-18 05:59:09  \n6  1.572792e+09 2019-11-03 09:40:58  \n7  1.604882e+09 2020-11-08 19:26:44  \n8  1.595457e+09 2020-07-22 18:30:54  \n9  1.533690e+09 2018-08-07 21:05:10  \n"
     ]
    }
   ]
  },
  {
   "cell_type": "code",
   "execution_count": 23,
   "metadata": {},
   "outputs": [
    {
     "output_type": "stream",
     "name": "stdout",
     "text": [
      "                                               title  score      id  \\\n0                             Anyone else depressed?   1484  iuq5bq   \n1  Are you seriously trying to quit your job duri...   1250  g4d70n   \n2  Anyone else graduated, got in a 'career' and r...   1147  gh3k6s   \n3  \"wE'vE dEcIdEd NoT tO mOvE fOrWaRd At ThIs TiM...   1067  gx9vcl   \n4  Anyone else feel ‘trapped’ in their job becaus...   1014  i75f39   \n5  Does anyone else get anxiety when looking at L...    998  jei9il   \n6  I hate office culture, I hate my job, am burnt...    935  gyyc4j   \n7  Why do people brag about being overworked and ...    935  ke8d2y   \n8  Does anyone else hate their job so much that y...    925  j2ggvd   \n9  Does anyone dislike Sundays, since it means a ...    914  iwkuyb   \n\n        subreddit                                                url  \\\n0  careerguidance  https://www.reddit.com/r/careerguidance/commen...   \n1  careerguidance  https://www.reddit.com/r/careerguidance/commen...   \n2  careerguidance  https://www.reddit.com/r/careerguidance/commen...   \n3  careerguidance  https://www.reddit.com/r/careerguidance/commen...   \n4  careerguidance  https://www.reddit.com/r/careerguidance/commen...   \n5  careerguidance  https://www.reddit.com/r/careerguidance/commen...   \n6  careerguidance  https://www.reddit.com/r/careerguidance/commen...   \n7  careerguidance  https://www.reddit.com/r/careerguidance/commen...   \n8  careerguidance  https://www.reddit.com/r/careerguidance/commen...   \n9  careerguidance  https://www.reddit.com/r/careerguidance/commen...   \n\n   num_comments                                               body  \\\n0           315  Anyone else in their mid-20s out of college, w...   \n1           188  This will probably be downvoted to hell. That’...   \n2           233  It's probably the number 1 thing driving me in...   \n3           315  I'm so sick of these emails. I want to scream ...   \n4           204  I’ve been in this shitty graduate job for almo...   \n5           164  I frequently go on LinkedIn to check for new j...   \n6           136  Firstly, I'll just preface this post by saying...   \n7           187  You guys know those people that thinks its a c...   \n8           142  I’ve been so miserable at my job for the last ...   \n9           132  I've always hated Sundays, since it meant a re...   \n\n        created        date_created  \n0  1.600399e+09 2020-09-17 23:08:49  \n1  1.587351e+09 2020-04-19 22:57:55  \n2  1.589154e+09 2020-05-10 19:32:34  \n3  1.591410e+09 2020-06-05 22:17:40  \n4  1.597097e+09 2020-08-10 18:05:10  \n5  1.603196e+09 2020-10-20 08:10:04  \n6  1.591648e+09 2020-06-08 16:23:52  \n7  1.608151e+09 2020-12-16 15:32:30  \n8  1.601474e+09 2020-09-30 09:49:31  \n9  1.600660e+09 2020-09-20 23:52:21  \n"
     ]
    }
   ],
   "source": [
    "posts_career_guidance = [] # make empty list \n",
    "\n",
    "career_guidance_subreddit = reddit.subreddit('careerguidance')\n",
    "\n",
    "for post in career_guidance_subreddit.top(limit=1000):\n",
    "    posts_career_guidance.append([post.title, post.score, post.id, post.subreddit, post.url, post.num_comments, post.selftext, post.created, date(post)])\n",
    "\n",
    "posts_career_guidance = pd.DataFrame(posts_career_guidance,columns=['title', 'score', 'id', 'subreddit', 'url', 'num_comments', 'body', 'created', 'date_created'])\n",
    "\n",
    "print(posts_career_guidance.head(10))\n",
    "\n",
    "posts_career_guidance.to_csv('posts_career_guidance.csv')"
   ]
  },
  {
   "cell_type": "code",
   "execution_count": 22,
   "metadata": {},
   "outputs": [
    {
     "output_type": "stream",
     "name": "stdout",
     "text": [
      "                                               title  score      id  \\\n0                               Keep a Brag Document    374  h972k3   \n1  [Meta] Time to crack down in questions from in...    357  f6a7t5   \n2  My bosses keep asking me what they can do to h...    296  k5cxdz   \n3  To all my past senior colleages that dealt wit...    253  itbgv5   \n4  Random mistakes and opportunities after 14 yea...    224  inl1na   \n5  Not so obvious hints gauge a developer while i...    220  gsu8i0   \n6      [Meta] So long and thanks for all the fish :)    217  ibxk5w   \n7  I built something 4 years ago to meet the need...    207  gme8ux   \n8            Thanks for being here r/ExperiencedDevs    199  g9zp3h   \n9         Unpopular Opinion: Job Hopping is a Luxury    198  fxs9h5   \n\n         subreddit                                                url  \\\n0  ExperiencedDevs  https://www.reddit.com/r/ExperiencedDevs/comme...   \n1  ExperiencedDevs  https://www.reddit.com/r/ExperiencedDevs/comme...   \n2  ExperiencedDevs  https://www.reddit.com/r/ExperiencedDevs/comme...   \n3  ExperiencedDevs  https://www.reddit.com/r/ExperiencedDevs/comme...   \n4  ExperiencedDevs  https://www.reddit.com/r/ExperiencedDevs/comme...   \n5  ExperiencedDevs  https://www.reddit.com/r/ExperiencedDevs/comme...   \n6  ExperiencedDevs  https://www.reddit.com/r/ExperiencedDevs/comme...   \n7  ExperiencedDevs  https://www.reddit.com/r/ExperiencedDevs/comme...   \n8  ExperiencedDevs  https://www.reddit.com/r/ExperiencedDevs/comme...   \n9  ExperiencedDevs  https://www.reddit.com/r/ExperiencedDevs/comme...   \n\n   num_comments                                               body  \\\n0            45  Hi everyone,\\n\\nThought I'd share some advice ...   \n1           157  Unfortunately there has been a trend of more a...   \n2            68  I kept debating, project management or archite...   \n3            41  I\"m really really sorry for being a pedantic, ...   \n4            30  * Built my brand, but associated it with thing...   \n5            72  Throughout my career I have interviewed dozens...   \n6           113  Hey guys. Just wanted to let people here know ...   \n7            66  Backstory: Joined startup early on around 5 ye...   \n8            80  Just wanted to send out a little love. I follo...   \n9            59  I see posts that say if you don't like what's ...   \n\n        created        date_created  \n0  1.592216e+09 2020-06-15 06:20:05  \n1  1.582145e+09 2020-02-19 15:41:38  \n2  1.606957e+09 2020-12-02 19:49:11  \n3  1.600214e+09 2020-09-15 19:51:30  \n4  1.599423e+09 2020-09-06 16:16:15  \n5  1.590792e+09 2020-05-29 18:42:57  \n6  1.597771e+09 2020-08-18 13:08:24  \n7  1.589878e+09 2020-05-19 04:46:22  \n8  1.588151e+09 2020-04-29 04:56:46  \n9  1.586467e+09 2020-04-09 17:17:50  \n"
     ]
    }
   ],
   "source": [
    "posts_experienced_devs = []\n",
    "experienced_devs_subreddit = reddit.subreddit('ExperiencedDevs')\n",
    "\n",
    "for post in experienced_devs_subreddit.top(limit=1000):\n",
    "    posts_experienced_devs.append([post.title, post.score, post.id, post.subreddit, post.url, post.num_comments, post.selftext, post.created, date(post)])\n",
    "\n",
    "posts_experienced_devs = pd.DataFrame(posts_experienced_devs,columns=['title', 'score', 'id', 'subreddit', 'url', 'num_comments', 'body', 'created', 'date_created'])\n",
    "\n",
    "\n",
    "print(posts_experienced_devs.head(10))\n",
    "\n",
    "\n",
    "posts_experienced_devs.to_csv('posts_experienced_devs.csv')"
   ]
  },
  {
   "cell_type": "code",
   "execution_count": null,
   "metadata": {},
   "outputs": [],
   "source": []
  }
 ],
 "metadata": {
  "kernelspec": {
   "display_name": "Python 3",
   "language": "python",
   "name": "python3"
  },
  "language_info": {
   "codemirror_mode": {
    "name": "ipython",
    "version": 3
   },
   "file_extension": ".py",
   "mimetype": "text/x-python",
   "name": "python",
   "nbconvert_exporter": "python",
   "pygments_lexer": "ipython3",
   "version": "3.8.3-final"
  }
 },
 "nbformat": 4,
 "nbformat_minor": 4
}